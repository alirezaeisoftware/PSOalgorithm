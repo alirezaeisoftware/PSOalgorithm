{
 "cells": [
  {
   "cell_type": "code",
   "execution_count": 8,
   "metadata": {},
   "outputs": [],
   "source": [
    "import numpy as np\n",
    "import matplotlib.pyplot as plt"
   ]
  },
  {
   "cell_type": "code",
   "execution_count": 9,
   "metadata": {},
   "outputs": [],
   "source": [
    "def rastringing(x):\n",
    "    n=len(x)\n",
    "    return 10*n+sum([xi**2-10*np.cos(2*np.pi*xi)for xi in x])"
   ]
  },
  {
   "cell_type": "code",
   "execution_count": 10,
   "metadata": {},
   "outputs": [],
   "source": [
    "dim=2;num_particles=30;max_iter=100;w=1;c1=1;c2=2;\n",
    "\n"
   ]
  },
  {
   "cell_type": "code",
   "execution_count": 11,
   "metadata": {},
   "outputs": [],
   "source": [
    "particles=np.random.uniform(-5.12,5.12,(num_particles,dim))\n",
    "velocities=np.zeros((num_particles, dim))"
   ]
  },
  {
   "cell_type": "code",
   "execution_count": 12,
   "metadata": {},
   "outputs": [],
   "source": [
    "best_positions=np.copy(particles)\n",
    "best_fitness=np.array([rastringing(p) for  p in particles])\n",
    "g_best_position=best_positions[np.argmin(best_fitness)]\n",
    "g_best_fitness=np.min(best_fitness)"
   ]
  },
  {
   "cell_type": "code",
   "execution_count": 17,
   "metadata": {},
   "outputs": [
    {
     "name": "stdout",
     "output_type": "stream",
     "text": [
      "0.0\n",
      "[ 3.15982430e-09 -4.00994301e-10]\n"
     ]
    }
   ],
   "source": [
    "for i in range(max_iter):\n",
    "    r1=np.random.uniform(0 , 1,(num_particles , dim))\n",
    "    r2=np.random.uniform(0 , 1,(num_particles , dim))\n",
    "    velocities=w*velocities+c1*r1*(best_positions - particles)+c2*r2*(g_best_position-particles)\n",
    "    w=0.95*w\n",
    "    particles+=velocities\n",
    "    fitness_value=np.array([rastringing(p) for  p in particles])\n",
    "\n",
    "    improved_id=np.where(fitness_value<best_fitness)\n",
    "    best_positions[improved_id]=particles[improved_id]\n",
    "    best_fitness[improved_id]=fitness_value[improved_id]\n",
    "    if np.min(fitness_value)<g_best_fitness:\n",
    "        g_best_fitness = np.min(fitness_value)\n",
    "        g_best_position= particles[np.argmin(fitness_value)]\n",
    "\n",
    "print(g_best_fitness)\n",
    "print(g_best_position)"
   ]
  },
  {
   "cell_type": "code",
   "execution_count": 26,
   "metadata": {},
   "outputs": [
    {
     "data": {
      "image/png": "[encoded data removed]",
      "text/plain": [
       "<Figure size 640x480 with 1 Axes>"
      ]
     },
     "metadata": {},
     "output_type": "display_data"
    }
   ],
   "source": [
    "x=np.linspace(-5.12 , 5,12 , 100)\n",
    "y=np.linspace(-5.12 , 5,12 , 100)\n",
    "X , Y =np.meshgrid(x , y)\n",
    "Z=rastringing([X , Y])\n",
    "\n",
    "plt.plot(X , Z)\n",
    "plt.scatter(g_best_position[0],g_best_fitness, c='black' , s=150)\n",
    "plt.show()\n",
    "\n"
   ]
  }
 ],
 "metadata": {
  "kernelspec": {
   "display_name": ".venv",
   "language": "python",
   "name": "python3"
  },
  "language_info": {
   "codemirror_mode": {
    "name": "ipython",
    "version": 3
   },
   "file_extension": ".py",
   "mimetype": "text/x-python",
   "name": "python",
   "nbconvert_exporter": "python",
   "pygments_lexer": "ipython3",
   "version": "3.11.0b3"
  }
 },
 "nbformat": 4,
 "nbformat_minor": 2
}
